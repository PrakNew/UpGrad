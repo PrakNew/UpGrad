{
 "cells": [
  {
   "cell_type": "markdown",
   "metadata": {},
   "source": [
    "## Soundex"
   ]
  },
  {
   "cell_type": "markdown",
   "metadata": {},
   "source": [
    "Let's create a function which calculates the soundex of any given string "
   ]
  },
  {
   "cell_type": "code",
   "execution_count": 1,
   "metadata": {
    "collapsed": true
   },
   "outputs": [],
   "source": [
    "def get_soundex(token):\n",
    "    \"\"\"Get the soundex code for the string\"\"\"\n",
    "    # Pre-define the mapping dictionary as a constant\n",
    "    SOUNDEX_CODES = {\n",
    "        letter: code\n",
    "        for code, letters in [\n",
    "            ('1', 'BFPV'), ('2', 'CGJKQSXZ'), ('3', 'DT'),\n",
    "            ('4', 'L'), ('5', 'MN'), ('6', 'R'), ('.', 'AEIOUHWY')\n",
    "        ]\n",
    "        for letter in letters\n",
    "    }\n",
    "    \n",
    "    # Convert to uppercase once\n",
    "    token = token.upper()\n",
    "    \n",
    "    # Initialize with first letter\n",
    "    soundex = [token[0]]\n",
    "    \n",
    "    # Get codes for remaining letters, only append if different from previous\n",
    "    for char in token[1:]:\n",
    "        code = SOUNDEX_CODES.get(char, '')\n",
    "        if code != '.' and (not soundex[-1].isdigit() or code != soundex[-1]):\n",
    "            soundex.append(code)\n",
    "    \n",
    "    # Join, trim to 4 chars and pad with zeros\n",
    "    return ''.join(soundex)[:4].ljust(4, '0')"
   ]
  },
  {
   "cell_type": "markdown",
   "metadata": {},
   "source": [
    "Let's see what's the soudex of 'Bombay' and 'Bambai'"
   ]
  },
  {
   "cell_type": "code",
   "execution_count": 2,
   "metadata": {},
   "outputs": [
    {
     "data": {
      "text/plain": [
       "'U126'"
      ]
     },
     "execution_count": 2,
     "metadata": {},
     "output_type": "execute_result"
    }
   ],
   "source": [
    "get_soundex(\"UpGrad\")"
   ]
  },
  {
   "cell_type": "code",
   "execution_count": 5,
   "metadata": {},
   "outputs": [
    {
     "name": "stdout",
     "output_type": "stream",
     "text": [
      "B510\n",
      "B510\n"
     ]
    }
   ],
   "source": [
    "print(get_soundex(\"Bombay\"))\n",
    "print(get_soundex(\"Bambai\"))"
   ]
  },
  {
   "cell_type": "markdown",
   "metadata": {},
   "source": [
    "Let's see soundex of 'Aggrawal', 'Agrawal', 'Aggarwal' and 'Agarwal'"
   ]
  },
  {
   "cell_type": "code",
   "execution_count": 6,
   "metadata": {},
   "outputs": [
    {
     "name": "stdout",
     "output_type": "stream",
     "text": [
      "A264\n",
      "A264\n",
      "A264\n",
      "A264\n"
     ]
    }
   ],
   "source": [
    "print(get_soundex(\"Aggrawal\"))\n",
    "print(get_soundex(\"Agrawal\"))\n",
    "print(get_soundex(\"Aggarwal\"))\n",
    "print(get_soundex(\"Agarwal\"))"
   ]
  },
  {
   "cell_type": "code",
   "execution_count": null,
   "metadata": {},
   "outputs": [],
   "source": []
  }
 ],
 "metadata": {
  "kernelspec": {
   "display_name": "Python 3",
   "language": "python",
   "name": "python3"
  },
  "language_info": {
   "codemirror_mode": {
    "name": "ipython",
    "version": 3
   },
   "file_extension": ".py",
   "mimetype": "text/x-python",
   "name": "python",
   "nbconvert_exporter": "python",
   "pygments_lexer": "ipython3",
   "version": "3.12.7"
  }
 },
 "nbformat": 4,
 "nbformat_minor": 2
}
