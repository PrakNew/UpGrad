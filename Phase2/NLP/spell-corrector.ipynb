{
 "cells": [
  {
   "cell_type": "code",
   "execution_count": 1,
   "metadata": {
    "collapsed": true
   },
   "outputs": [],
   "source": [
    "import re\n",
    "from collections import Counter"
   ]
  },
  {
   "cell_type": "code",
   "execution_count": 2,
   "metadata": {
    "collapsed": true
   },
   "outputs": [],
   "source": [
    "# function to tokenise words\n",
    "def words(document):\n",
    "    \"Convert text to lower case and tokenise the document\"\n",
    "    return re.findall(r'\\w+', document.lower())"
   ]
  },
  {
   "cell_type": "code",
   "execution_count": 3,
   "metadata": {
    "collapsed": true
   },
   "outputs": [],
   "source": [
    "# create a frequency table of all the words of the document\n",
    "all_words = Counter(words(open('big.txt').read()))"
   ]
  },
  {
   "cell_type": "code",
   "execution_count": 4,
   "metadata": {},
   "outputs": [
    {
     "data": {
      "text/plain": [
       "135"
      ]
     },
     "execution_count": 4,
     "metadata": {},
     "output_type": "execute_result"
    }
   ],
   "source": [
    "# check frequency of a random word, say, 'chair'\n",
    "all_words['chair']"
   ]
  },
  {
   "cell_type": "code",
   "execution_count": 5,
   "metadata": {},
   "outputs": [
    {
     "data": {
      "text/plain": [
       "[('the', 79809),\n",
       " ('of', 40024),\n",
       " ('and', 38312),\n",
       " ('to', 28765),\n",
       " ('in', 22023),\n",
       " ('a', 21124),\n",
       " ('that', 12512),\n",
       " ('he', 12401),\n",
       " ('was', 11410),\n",
       " ('it', 10681)]"
      ]
     },
     "execution_count": 5,
     "metadata": {},
     "output_type": "execute_result"
    }
   ],
   "source": [
    "# look at top 10 frequent words\n",
    "all_words.most_common(10)"
   ]
  },
  {
   "cell_type": "code",
   "execution_count": 6,
   "metadata": {
    "collapsed": true
   },
   "outputs": [],
   "source": [
    "def edits_one(word):\n",
    "    \"Create all edits that are one edit away from `word`.\"\n",
    "    alphabets    = 'abcdefghijklmnopqrstuvwxyz'\n",
    "    splits     = [(word[:i], word[i:])                   for i in range(len(word) + 1)]\n",
    "    deletes    = [left + right[1:]                       for left, right in splits if right]\n",
    "    inserts    = [left + c + right                       for left, right in splits for c in alphabets]\n",
    "    replaces   = [left + c + right[1:]                   for left, right in splits if right for c in alphabets]\n",
    "    transposes = [left + right[1] + right[0] + right[2:] for left, right in splits if len(right)>1]\n",
    "    return set(deletes + inserts + replaces + transposes)"
   ]
  },
  {
   "cell_type": "code",
   "execution_count": 7,
   "metadata": {
    "collapsed": true
   },
   "outputs": [],
   "source": [
    "def edits_two(word):\n",
    "    \"Create all edits that are two edits away from `word`.\"\n",
    "    return (e2 for e1 in edits_one(word) for e2 in edits_one(e1))"
   ]
  },
  {
   "cell_type": "code",
   "execution_count": 8,
   "metadata": {
    "collapsed": true
   },
   "outputs": [],
   "source": [
    "def known(words):\n",
    "    \"The subset of `words` that appear in the `all_words`.\"\n",
    "    return set(word for word in words if word in all_words)"
   ]
  },
  {
   "cell_type": "code",
   "execution_count": 9,
   "metadata": {
    "collapsed": true
   },
   "outputs": [],
   "source": [
    "def possible_corrections(word):\n",
    "    \"Generate possible spelling corrections for word.\"\n",
    "    return (known([word]) or known(edits_one(word)) or known(edits_two(word)) or [word])"
   ]
  },
  {
   "cell_type": "code",
   "execution_count": 10,
   "metadata": {
    "collapsed": true
   },
   "outputs": [],
   "source": [
    "def prob(word, N=sum(all_words.values())): \n",
    "    \"Probability of `word`: Number of appearances of 'word' / total number of tokens\"\n",
    "    return all_words[word] / N"
   ]
  },
  {
   "cell_type": "code",
   "execution_count": 11,
   "metadata": {},
   "outputs": [
    {
     "name": "stdout",
     "output_type": "stream",
     "text": [
      "336\n",
      "{'munney', 'moniey', 'mbonney', 'muonney', 'monnkey', 'mconney', 'wonney', 'monnmey', 'monqey', 'smonney', 'monnuy', 'monnxey', 'mtonney', 'monxey', 'monneyz', 'monnny', 'monnty', 'mopney', 'monnxy', 'kmonney', 'mvonney', 'monwey', 'mouney', 'monneby', 'conney', 'monneb', 'mosney', 'monned', 'monnvy', 'monnyy', 'mjonney', 'momnney', 'xmonney', 'monneyc', 'mlonney', 'mdnney', 'mownney', 'mronney', 'moonney', 'uonney', 'mwonney', 'monnepy', 'mmnney', 'monnley', 'monnery', 'monneh', 'mznney', 'mondney', 'honney', 'monniey', 'monnecy', 'monkney', 'monnoy', 'mojnney', 'omnney', 'monnexy', 'mponney', 'monneyt', 'monneyd', 'mxnney', 'monqney', 'mgnney', 'nmonney', 'minney', 'monnew', 'tonney', 'monnei', 'amonney', 'monneyr', 'mnoney', 'monnegy', 'monpey', 'mmonney', 'vmonney', 'montney', 'monnesy', 'monley', 'moqney', 'moeney', 'monneyl', 'monneo', 'mnonney', 'mogney', 'moxney', 'monngy', 'meonney', 'monnezy', 'monnes', 'monneyo', 'monntey', 'mounney', 'monneny', 'xonney', 'jonney', 'modnney', 'dmonney', 'mdonney', 'monjey', 'monnep', 'monnez', 'mfnney', 'mohney', 'monrey', 'monnevy', 'moqnney', 'monnel', 'monoey', 'rmonney', 'moneny', 'monaey', 'maonney', 'monneyn', 'monzney', 'monnex', 'moznney', 'mvnney', 'menney', 'monneg', 'monner', 'nonney', 'molney', 'movnney', 'lmonney', 'monnee', 'mqonney', 'ymonney', 'money', 'moanney', 'mwnney', 'mobney', 'mognney', 'moknney', 'morney', 'modney', 'monzey', 'monneay', 'motney', 'monneye', 'monneu', 'monnky', 'monfney', 'mononey', 'mohnney', 'monneyi', 'moynney', 'moneey', 'myonney', 'fmonney', 'monneyk', 'monneqy', 'monnly', 'imonney', 'monney', 'monnyey', 'monnefy', 'mgonney', 'monnay', 'bmonney', 'mongney', 'monnemy', 'monnehy', 'yonney', 'monnrey', 'msnney', 'gonney', 'monne', 'monnpy', 'ronney', 'movney', 'zonney', 'monnely', 'mjnney', 'monnry', 'monuney', 'konney', 'monnuey', 'monny', 'monnhey', 'monnaey', 'monsney', 'monkey', 'sonney', 'mpnney', 'mooney', 'mzonney', 'donney', 'moyney', 'zmonney', 'mojney', 'mbnney', 'monvey', 'monneyw', 'monnet', 'monneiy', 'monneyj', 'mkonney', 'qonney', 'momney', 'monnev', 'monrney', 'omonney', 'monneyx', 'monyey', 'moxnney', 'monneey', 'monnef', 'monnye', 'wmonney', 'monneuy', 'mofnney', 'monnwy', 'monnoey', 'mfonney', 'monxney', 'mocney', 'monmey', 'montey', 'monneyp', 'ionney', 'mondey', 'monmney', 'moneney', 'monneyb', 'monjney', 'molnney', 'monnjy', 'monneya', 'monneky', 'mtnney', 'monsey', 'mhnney', 'lonney', 'monnej', 'monnwey', 'vonney', 'monnby', 'pmonney', 'mknney', 'monnvey', 'monhey', 'monnea', 'monnney', 'monyney', 'mowney', 'monbey', 'emonney', 'monnety', 'monnbey', 'tmonney', 'cmonney', 'manney', 'monfey', 'monbney', 'monnfey', 'mornney', 'aonney', 'monneym', 'mcnney', 'mokney', 'monneyy', 'monnec', 'monnek', 'motnney', 'oonney', 'onney', 'monnzey', 'monneyu', 'moaney', 'monwney', 'mynney', 'monvney', 'monneyh', 'moncey', 'monnsey', 'monniy', 'monaney', 'monlney', 'monnmy', 'mosnney', 'eonney', 'monnen', 'moenney', 'mlnney', 'gmonney', 'mionney', 'monndey', 'mqnney', 'mopnney', 'monnfy', 'ponney', 'monneyv', 'monneyg', 'mxonney', 'monneq', 'monncy', 'mozney', 'mhonney', 'moncney', 'umonney', 'monncey', 'monnewy', 'monnedy', 'jmonney', 'hmonney', 'mnnney', 'moiney', 'moinney', 'monnjey', 'monnqy', 'qmonney', 'monnsy', 'monngey', 'msonney', 'fonney', 'monnpey', 'monneyq', 'moniney', 'mrnney', 'mobnney', 'monnzy', 'mofney', 'mnney', 'monndy', 'monnqey', 'monnejy', 'monneoy', 'monneyf', 'bonney', 'monpney', 'monnhy', 'monhney', 'mocnney', 'monuey', 'monnem', 'mongey', 'monneys'}\n"
     ]
    }
   ],
   "source": [
    "print(len(set(edits_one(\"monney\"))))\n",
    "print(edits_one(\"monney\"))"
   ]
  },
  {
   "cell_type": "code",
   "execution_count": 12,
   "metadata": {},
   "outputs": [
    {
     "name": "stdout",
     "output_type": "stream",
     "text": [
      "{'monkey', 'money'}\n"
     ]
    }
   ],
   "source": [
    "print(known(edits_one(\"monney\")))"
   ]
  },
  {
   "cell_type": "code",
   "execution_count": 20,
   "metadata": {},
   "outputs": [
    {
     "name": "stdout",
     "output_type": "stream",
     "text": [
      "442\n",
      "90902\n",
      "{'emphasize'}\n"
     ]
    }
   ],
   "source": [
    "print(len(edits_one(\"emfasize\")))\n",
    "print(len(set(edits_two(\"emfasize\"))))\n",
    "print(possible_corrections(\"emfasize\"))\n"
   ]
  },
  {
   "cell_type": "code",
   "execution_count": 13,
   "metadata": {},
   "outputs": [
    {
     "name": "stdout",
     "output_type": "stream",
     "text": [
      "51013\n",
      "{'monkey', 'money'}\n"
     ]
    }
   ],
   "source": [
    "# Let's look at words that are two edits away\n",
    "print(len(set(edits_two(\"monney\"))))\n",
    "print(known(edits_one(\"monney\")))"
   ]
  },
  {
   "cell_type": "code",
   "execution_count": 14,
   "metadata": {},
   "outputs": [
    {
     "name": "stdout",
     "output_type": "stream",
     "text": [
      "{'monkey', 'money'}\n"
     ]
    }
   ],
   "source": [
    "# Let's look at possible corrections of a word\n",
    "print(possible_corrections(\"monney\"))"
   ]
  },
  {
   "cell_type": "code",
   "execution_count": 15,
   "metadata": {},
   "outputs": [
    {
     "name": "stdout",
     "output_type": "stream",
     "text": [
      "0.0002922233626303688\n",
      "5.378344097491451e-06\n"
     ]
    }
   ],
   "source": [
    "# Let's look at probability of a word\n",
    "print(prob(\"money\"))\n",
    "print(prob(\"monkey\"))"
   ]
  },
  {
   "cell_type": "code",
   "execution_count": null,
   "metadata": {},
   "outputs": [],
   "source": [
    "def spell_check(word):\n",
    "    \"Print the most probable spelling correction for `word` out of all the `possible_corrections`\"\n",
    "    correct_word = max(possible_corrections(word), key=prob)\n",
    "    if correct_word != word:\n",
    "        return \"Did you mean \" + correct_word + \"?\"\n",
    "    else:\n",
    "        return \"Correct spelling.\""
   ]
  },
  {
   "cell_type": "code",
   "execution_count": null,
   "metadata": {},
   "outputs": [],
   "source": [
    "# test spell check\n",
    "print(spell_check(\"monney\"))"
   ]
  },
  {
   "cell_type": "code",
   "execution_count": null,
   "metadata": {},
   "outputs": [],
   "source": []
  }
 ],
 "metadata": {
  "kernelspec": {
   "display_name": "Python 3",
   "language": "python",
   "name": "python3"
  },
  "language_info": {
   "codemirror_mode": {
    "name": "ipython",
    "version": 3
   },
   "file_extension": ".py",
   "mimetype": "text/x-python",
   "name": "python",
   "nbconvert_exporter": "python",
   "pygments_lexer": "ipython3",
   "version": "3.12.7"
  }
 },
 "nbformat": 4,
 "nbformat_minor": 2
}
