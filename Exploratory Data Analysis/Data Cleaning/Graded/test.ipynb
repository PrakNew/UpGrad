{
 "cells": [
  {
   "cell_type": "code",
   "execution_count": 1,
   "metadata": {},
   "outputs": [
    {
     "name": "stdout",
     "output_type": "stream",
     "text": [
      "   Dress_ID  Summer  Winter  Spring  Autumn\n",
      "0         1     175     155      25     495\n",
      "1         2     225     185      35     575\n",
      "2         3     275     215      45     655\n"
     ]
    }
   ],
   "source": [
    "import pandas as pd\n",
    "\n",
    "# Sample DataFrame\n",
    "data = {\n",
    "    'Dress_ID': [1, 2, 3],\n",
    "    '29-08-2013': [10, 20, 30],\n",
    "    '31-08-2013': [15, 25, 35],\n",
    "    '09-02-2013': [20, 30, 40],\n",
    "    '09-04-2013': [25, 35, 45],\n",
    "    '09-06-2013': [30, 40, 50],\n",
    "    '09-08-2013': [35, 45, 55],\n",
    "    '09-10-2013': [40, 50, 60],\n",
    "    '09-12-2013': [45, 55, 65],\n",
    "    '14-09-2013': [50, 60, 70],\n",
    "    '16-09-2013': [55, 65, 75],\n",
    "    '18-09-2013': [60, 70, 80],\n",
    "    '20-09-2013': [65, 75, 85],\n",
    "    '22-09-2013': [70, 80, 90],\n",
    "    '24-09-2013': [75, 85, 95],\n",
    "    '28-09-2013': [80, 90, 100],\n",
    "    '10-06-2013': [85, 95, 105],\n",
    "    '10-12-2013': [90, 100, 110]\n",
    "}\n",
    "\n",
    "inp1 = pd.DataFrame(data)\n",
    "\n",
    "# Function to determine season\n",
    "def get_season(date_str):\n",
    "    month = int(date_str.split('-')[1])\n",
    "    if month in [6, 7, 8]:\n",
    "        return 'Summer'\n",
    "    elif month in [9, 10, 11]:\n",
    "        return 'Autumn'\n",
    "    elif month in [12, 1, 2]:\n",
    "        return 'Winter'\n",
    "    elif month in [3, 4, 5]:\n",
    "        return 'Spring'\n",
    "\n",
    "# Initialize a new DataFrame for categorized seasons\n",
    "seasonal_sales = pd.DataFrame()\n",
    "seasonal_sales['Dress_ID'] = inp1['Dress_ID']\n",
    "\n",
    "# Categorize columns into seasons\n",
    "for column in inp1.columns[1:]:\n",
    "    season = get_season(column)\n",
    "    if season not in seasonal_sales:\n",
    "        seasonal_sales[season] = inp1[column]\n",
    "    else:\n",
    "        seasonal_sales[season] += inp1[column]\n",
    "\n",
    "print(seasonal_sales)\n"
   ]
  },
  {
   "cell_type": "code",
   "execution_count": 5,
   "metadata": {},
   "outputs": [
    {
     "data": {
      "text/plain": [
       "Dress_ID       6\n",
       "Summer       675\n",
       "Winter       555\n",
       "Spring       105\n",
       "Autumn      1725\n",
       "dtype: int64"
      ]
     },
     "execution_count": 5,
     "metadata": {},
     "output_type": "execute_result"
    }
   ],
   "source": [
    "# calculate the sum of sales in each seasons \n",
    "\n",
    "seasonal_sales.sum(axis=0)"
   ]
  },
  {
   "cell_type": "code",
   "execution_count": 1,
   "metadata": {},
   "outputs": [
    {
     "name": "stdout",
     "output_type": "stream",
     "text": [
      "    A   B   C\n",
      "0  10  50   9\n",
      "1  20  60  10\n",
      "2   3   7  11\n",
      "3   4   8  12\n"
     ]
    }
   ],
   "source": [
    "import pandas as pd\n",
    "\n",
    "# Create a sample DataFrame\n",
    "data = {\n",
    "    'A': [1, 2, 3, 4],\n",
    "    'B': [5, 6, 7, 8],\n",
    "    'C': [9, 10, 11, 12]\n",
    "}\n",
    "\n",
    "df = pd.DataFrame(data)\n",
    "\n",
    "# Replace values in the DataFrame\n",
    "df = df.replace({'A': {1: 10, 2: 20}, 'B': {5: 50, 6: 60}})\n",
    "\n",
    "print(df)"
   ]
  },
  {
   "cell_type": "code",
   "execution_count": null,
   "metadata": {},
   "outputs": [],
   "source": []
  }
 ],
 "metadata": {
  "kernelspec": {
   "display_name": "base",
   "language": "python",
   "name": "python3"
  },
  "language_info": {
   "codemirror_mode": {
    "name": "ipython",
    "version": 3
   },
   "file_extension": ".py",
   "mimetype": "text/x-python",
   "name": "python",
   "nbconvert_exporter": "python",
   "pygments_lexer": "ipython3",
   "version": "3.11.7"
  }
 },
 "nbformat": 4,
 "nbformat_minor": 2
}
